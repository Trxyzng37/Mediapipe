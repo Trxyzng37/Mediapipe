{
  "cells": [
    {
      "cell_type": "code",
      "execution_count": 1,
      "metadata": {
        "id": "igMyGnjE9hEp"
      },
      "outputs": [],
      "source": [
        "import csv\n",
        "import os\n",
        "import numpy as np\n",
        "import tensorflow as tf"
      ]
    },
    {
      "cell_type": "code",
      "execution_count": 2,
      "metadata": {
        "id": "9NvZP2Zn9hEy"
      },
      "outputs": [],
      "source": [
        "train_data = 'data_set/data/train/train.csv'\n",
        "val_data = 'data_set/data/val/val.csv'\n",
        "test_data = 'data_set/data/test/test.csv'\n",
        "model_save_path = 'keypoint_classifier.hdf5'\n",
        "tflite_save_path = 'keypoint_classifier.tflite'"
      ]
    },
    {
      "cell_type": "code",
      "execution_count": 3,
      "metadata": {
        "id": "du4kodXL9hEz"
      },
      "outputs": [
        {
          "name": "stdout",
          "output_type": "stream",
          "text": [
            "6\n"
          ]
        }
      ],
      "source": [
        "NUM_CLASSES = 0\n",
        "for item in os.listdir(\"data_set/data/train/\"):\n",
        "    NUM_CLASSES += 1\n",
        "# -1 to remove train.csv\n",
        "NUM_CLASSES -= 1 \n",
        "print(NUM_CLASSES)"
      ]
    },
    {
      "cell_type": "code",
      "execution_count": 4,
      "metadata": {
        "id": "QT5ZqtEz9hE0"
      },
      "outputs": [],
      "source": [
        "x_train = np.loadtxt(train_data, delimiter=',', dtype='float32', usecols=list(range(2, (21 * 2) + 2)))\n",
        "y_train = np.loadtxt(train_data, delimiter=',', dtype='int32', usecols=(1))"
      ]
    },
    {
      "cell_type": "code",
      "execution_count": 5,
      "metadata": {
        "id": "xQU7JTZ_9hE0"
      },
      "outputs": [],
      "source": [
        "x_val = np.loadtxt(val_data, delimiter=',', dtype='float32', usecols=list(range(2, (21 * 2) + 2)))\n",
        "y_val = np.loadtxt(val_data, delimiter=',', dtype='int32', usecols=(1))"
      ]
    },
    {
      "cell_type": "code",
      "execution_count": 6,
      "metadata": {},
      "outputs": [],
      "source": [
        "x_test = np.loadtxt(test_data, delimiter=',', dtype='float32', usecols=list(range(2, (21 * 2) + 2)))\n",
        "y_test = np.loadtxt(test_data, delimiter=',', dtype='int32', usecols=(1))"
      ]
    },
    {
      "cell_type": "code",
      "execution_count": 7,
      "metadata": {
        "id": "vHBmUf1t9hE1"
      },
      "outputs": [],
      "source": [
        "# model = tf.keras.models.Sequential([\n",
        "#     tf.keras.layers.Input((21 * 2, )),\n",
        "#     tf.keras.layers.Dropout(0.2),\n",
        "#     tf.keras.layers.Dense(20, activation='relu'),\n",
        "#     tf.keras.layers.Dropout(0.4),\n",
        "#     tf.keras.layers.Dense(10, activation='relu'),\n",
        "#     tf.keras.layers.Dense(NUM_CLASSES, activation='softmax')\n",
        "# ])"
      ]
    },
    {
      "cell_type": "code",
      "execution_count": 8,
      "metadata": {},
      "outputs": [],
      "source": [
        "input_shape = (42,)\n",
        "model = tf.keras.models.Sequential([\n",
        "    tf.keras.layers.Reshape(input_shape + (1,), input_shape=input_shape),\n",
        "    tf.keras.layers.Conv1D(6, kernel_size=5, activation='relu'),\n",
        "    tf.keras.layers.MaxPooling1D(pool_size=2),\n",
        "    tf.keras.layers.Conv1D(16, kernel_size=5, activation='relu'),\n",
        "    tf.keras.layers.MaxPooling1D(pool_size=2),\n",
        "    tf.keras.layers.Flatten(),\n",
        "    tf.keras.layers.Dense(120, activation='relu'),\n",
        "    tf.keras.layers.Dense(84, activation='relu'),\n",
        "    tf.keras.layers.Dense(NUM_CLASSES, activation='softmax')\n",
        "])\n"
      ]
    },
    {
      "cell_type": "code",
      "execution_count": 9,
      "metadata": {
        "colab": {
          "base_uri": "https://localhost:8080/"
        },
        "id": "ypqky9tc9hE1",
        "outputId": "5db082bb-30e3-4110-bf63-a1ee777ecd46"
      },
      "outputs": [
        {
          "name": "stdout",
          "output_type": "stream",
          "text": [
            "Model: \"sequential\"\n",
            "_________________________________________________________________\n",
            "Layer (type)                 Output Shape              Param #   \n",
            "=================================================================\n",
            "reshape (Reshape)            (None, 42, 1)             0         \n",
            "_________________________________________________________________\n",
            "conv1d (Conv1D)              (None, 38, 6)             36        \n",
            "_________________________________________________________________\n",
            "max_pooling1d (MaxPooling1D) (None, 19, 6)             0         \n",
            "_________________________________________________________________\n",
            "conv1d_1 (Conv1D)            (None, 15, 16)            496       \n",
            "_________________________________________________________________\n",
            "max_pooling1d_1 (MaxPooling1 (None, 7, 16)             0         \n",
            "_________________________________________________________________\n",
            "flatten (Flatten)            (None, 112)               0         \n",
            "_________________________________________________________________\n",
            "dense (Dense)                (None, 120)               13560     \n",
            "_________________________________________________________________\n",
            "dense_1 (Dense)              (None, 84)                10164     \n",
            "_________________________________________________________________\n",
            "dense_2 (Dense)              (None, 6)                 510       \n",
            "=================================================================\n",
            "Total params: 24,766\n",
            "Trainable params: 24,766\n",
            "Non-trainable params: 0\n",
            "_________________________________________________________________\n"
          ]
        }
      ],
      "source": [
        "model.summary()  "
      ]
    },
    {
      "cell_type": "code",
      "execution_count": 10,
      "metadata": {
        "id": "MbMjOflQ9hE1"
      },
      "outputs": [],
      "source": [
        "# Model checkpoint callback\n",
        "cp_callback = tf.keras.callbacks.ModelCheckpoint(\n",
        "    model_save_path, verbose=1, save_weights_only=False)\n",
        "# Callback for early stopping\n",
        "es_callback = tf.keras.callbacks.EarlyStopping(patience=20, verbose=1)"
      ]
    },
    {
      "cell_type": "code",
      "execution_count": 11,
      "metadata": {
        "id": "c3Dac0M_9hE2"
      },
      "outputs": [],
      "source": [
        "# Model compilation\n",
        "model.compile(\n",
        "    optimizer='adam',\n",
        "    loss='sparse_categorical_crossentropy',\n",
        "    metrics=['accuracy']\n",
        ")"
      ]
    },
    {
      "cell_type": "code",
      "execution_count": 12,
      "metadata": {
        "colab": {
          "base_uri": "https://localhost:8080/"
        },
        "id": "WirBl-JE9hE3",
        "outputId": "71b30ca2-8294-4d9d-8aa2-800d90d399de",
        "scrolled": true
      },
      "outputs": [
        {
          "name": "stdout",
          "output_type": "stream",
          "text": [
            "Epoch 1/1000\n",
            "2381/2403 [============================>.] - ETA: 0s - loss: 0.1726 - accuracy: 0.9410\n",
            "Epoch 00001: saving model to keypoint_classifier.hdf5\n",
            "2403/2403 [==============================] - 4s 2ms/step - loss: 0.1715 - accuracy: 0.9415 - val_loss: 0.0236 - val_accuracy: 0.9959\n",
            "Epoch 2/1000\n",
            "2388/2403 [============================>.] - ETA: 0s - loss: 0.0301 - accuracy: 0.9934\n",
            "Epoch 00002: saving model to keypoint_classifier.hdf5\n",
            "2403/2403 [==============================] - 4s 2ms/step - loss: 0.0306 - accuracy: 0.9933 - val_loss: 0.0182 - val_accuracy: 0.9971\n",
            "Epoch 3/1000\n",
            "2392/2403 [============================>.] - ETA: 0s - loss: 0.0258 - accuracy: 0.9941\n",
            "Epoch 00003: saving model to keypoint_classifier.hdf5\n",
            "2403/2403 [==============================] - 4s 2ms/step - loss: 0.0258 - accuracy: 0.9941 - val_loss: 0.0224 - val_accuracy: 0.9955\n",
            "Epoch 4/1000\n",
            "2376/2403 [============================>.] - ETA: 0s - loss: 0.0213 - accuracy: 0.9941\n",
            "Epoch 00004: saving model to keypoint_classifier.hdf5\n",
            "2403/2403 [==============================] - 4s 2ms/step - loss: 0.0211 - accuracy: 0.9942 - val_loss: 0.0245 - val_accuracy: 0.9963\n",
            "Epoch 5/1000\n",
            "2400/2403 [============================>.] - ETA: 0s - loss: 0.0194 - accuracy: 0.9948\n",
            "Epoch 00005: saving model to keypoint_classifier.hdf5\n",
            "2403/2403 [==============================] - 5s 2ms/step - loss: 0.0194 - accuracy: 0.9948 - val_loss: 0.0253 - val_accuracy: 0.9975\n",
            "Epoch 6/1000\n",
            "2377/2403 [============================>.] - ETA: 0s - loss: 0.0176 - accuracy: 0.9956\n",
            "Epoch 00006: saving model to keypoint_classifier.hdf5\n",
            "2403/2403 [==============================] - 5s 2ms/step - loss: 0.0174 - accuracy: 0.9957 - val_loss: 0.0249 - val_accuracy: 0.9975\n",
            "Epoch 7/1000\n",
            "2384/2403 [============================>.] - ETA: 0s - loss: 0.0156 - accuracy: 0.9960\n",
            "Epoch 00007: saving model to keypoint_classifier.hdf5\n",
            "2403/2403 [==============================] - 5s 2ms/step - loss: 0.0159 - accuracy: 0.9958 - val_loss: 0.0319 - val_accuracy: 0.9942\n",
            "Epoch 8/1000\n",
            "2369/2403 [============================>.] - ETA: 0s - loss: 0.0137 - accuracy: 0.9962\n",
            "Epoch 00008: saving model to keypoint_classifier.hdf5\n",
            "2403/2403 [==============================] - 4s 2ms/step - loss: 0.0137 - accuracy: 0.9962 - val_loss: 0.0147 - val_accuracy: 0.9975\n",
            "Epoch 9/1000\n",
            "2375/2403 [============================>.] - ETA: 0s - loss: 0.0139 - accuracy: 0.9965\n",
            "Epoch 00009: saving model to keypoint_classifier.hdf5\n",
            "2403/2403 [==============================] - 4s 2ms/step - loss: 0.0138 - accuracy: 0.9965 - val_loss: 0.0221 - val_accuracy: 0.9946\n",
            "Epoch 10/1000\n",
            "2393/2403 [============================>.] - ETA: 0s - loss: 0.0120 - accuracy: 0.9971\n",
            "Epoch 00010: saving model to keypoint_classifier.hdf5\n",
            "2403/2403 [==============================] - 4s 2ms/step - loss: 0.0119 - accuracy: 0.9971 - val_loss: 0.0218 - val_accuracy: 0.9975\n",
            "Epoch 11/1000\n",
            "2391/2403 [============================>.] - ETA: 0s - loss: 0.0130 - accuracy: 0.9962\n",
            "Epoch 00011: saving model to keypoint_classifier.hdf5\n",
            "2403/2403 [==============================] - 4s 2ms/step - loss: 0.0129 - accuracy: 0.9963 - val_loss: 0.0196 - val_accuracy: 0.9975\n",
            "Epoch 12/1000\n",
            "2386/2403 [============================>.] - ETA: 0s - loss: 0.0091 - accuracy: 0.9976\n",
            "Epoch 00012: saving model to keypoint_classifier.hdf5\n",
            "2403/2403 [==============================] - 4s 2ms/step - loss: 0.0091 - accuracy: 0.9976 - val_loss: 0.0227 - val_accuracy: 0.9975\n",
            "Epoch 13/1000\n",
            "2386/2403 [============================>.] - ETA: 0s - loss: 0.0119 - accuracy: 0.9964\n",
            "Epoch 00013: saving model to keypoint_classifier.hdf5\n",
            "2403/2403 [==============================] - 5s 2ms/step - loss: 0.0119 - accuracy: 0.9964 - val_loss: 0.0229 - val_accuracy: 0.9971\n",
            "Epoch 14/1000\n",
            "2375/2403 [============================>.] - ETA: 0s - loss: 0.0098 - accuracy: 0.9972\n",
            "Epoch 00014: saving model to keypoint_classifier.hdf5\n",
            "2403/2403 [==============================] - 5s 2ms/step - loss: 0.0097 - accuracy: 0.9973 - val_loss: 0.0206 - val_accuracy: 0.9975\n",
            "Epoch 15/1000\n",
            "2376/2403 [============================>.] - ETA: 0s - loss: 0.0097 - accuracy: 0.9973\n",
            "Epoch 00015: saving model to keypoint_classifier.hdf5\n",
            "2403/2403 [==============================] - 4s 2ms/step - loss: 0.0096 - accuracy: 0.9973 - val_loss: 0.0243 - val_accuracy: 0.9950\n",
            "Epoch 16/1000\n",
            "2376/2403 [============================>.] - ETA: 0s - loss: 0.0086 - accuracy: 0.9975\n",
            "Epoch 00016: saving model to keypoint_classifier.hdf5\n",
            "2403/2403 [==============================] - 4s 2ms/step - loss: 0.0085 - accuracy: 0.9975 - val_loss: 0.0299 - val_accuracy: 0.9959\n",
            "Epoch 17/1000\n",
            "2389/2403 [============================>.] - ETA: 0s - loss: 0.0102 - accuracy: 0.9974\n",
            "Epoch 00017: saving model to keypoint_classifier.hdf5\n",
            "2403/2403 [==============================] - 4s 2ms/step - loss: 0.0102 - accuracy: 0.9974 - val_loss: 0.0324 - val_accuracy: 0.9955\n",
            "Epoch 18/1000\n",
            "2381/2403 [============================>.] - ETA: 0s - loss: 0.0076 - accuracy: 0.9982\n",
            "Epoch 00018: saving model to keypoint_classifier.hdf5\n",
            "2403/2403 [==============================] - 5s 2ms/step - loss: 0.0076 - accuracy: 0.9983 - val_loss: 0.0249 - val_accuracy: 0.9975\n",
            "Epoch 19/1000\n",
            "2378/2403 [============================>.] - ETA: 0s - loss: 0.0096 - accuracy: 0.9977\n",
            "Epoch 00019: saving model to keypoint_classifier.hdf5\n",
            "2403/2403 [==============================] - 4s 2ms/step - loss: 0.0095 - accuracy: 0.9978 - val_loss: 0.0266 - val_accuracy: 0.9975\n",
            "Epoch 20/1000\n",
            "2383/2403 [============================>.] - ETA: 0s - loss: 0.0085 - accuracy: 0.9977\n",
            "Epoch 00020: saving model to keypoint_classifier.hdf5\n",
            "2403/2403 [==============================] - 4s 2ms/step - loss: 0.0085 - accuracy: 0.9977 - val_loss: 0.0145 - val_accuracy: 0.9983\n",
            "Epoch 21/1000\n",
            "2368/2403 [============================>.] - ETA: 0s - loss: 0.0095 - accuracy: 0.9975\n",
            "Epoch 00021: saving model to keypoint_classifier.hdf5\n",
            "2403/2403 [==============================] - 4s 2ms/step - loss: 0.0094 - accuracy: 0.9975 - val_loss: 0.0231 - val_accuracy: 0.9975\n",
            "Epoch 22/1000\n",
            "2398/2403 [============================>.] - ETA: 0s - loss: 0.0089 - accuracy: 0.9975\n",
            "Epoch 00022: saving model to keypoint_classifier.hdf5\n",
            "2403/2403 [==============================] - 5s 2ms/step - loss: 0.0089 - accuracy: 0.9975 - val_loss: 0.0183 - val_accuracy: 0.9975\n",
            "Epoch 23/1000\n",
            "2394/2403 [============================>.] - ETA: 0s - loss: 0.0101 - accuracy: 0.9977\n",
            "Epoch 00023: saving model to keypoint_classifier.hdf5\n",
            "2403/2403 [==============================] - 5s 2ms/step - loss: 0.0101 - accuracy: 0.9977 - val_loss: 0.0385 - val_accuracy: 0.9950\n",
            "Epoch 24/1000\n",
            "2402/2403 [============================>.] - ETA: 0s - loss: 0.0053 - accuracy: 0.9987\n",
            "Epoch 00024: saving model to keypoint_classifier.hdf5\n",
            "2403/2403 [==============================] - 4s 2ms/step - loss: 0.0053 - accuracy: 0.9987 - val_loss: 0.0213 - val_accuracy: 0.9975\n",
            "Epoch 25/1000\n",
            "2395/2403 [============================>.] - ETA: 0s - loss: 0.0067 - accuracy: 0.9984\n",
            "Epoch 00025: saving model to keypoint_classifier.hdf5\n",
            "2403/2403 [==============================] - 5s 2ms/step - loss: 0.0066 - accuracy: 0.9984 - val_loss: 0.0339 - val_accuracy: 0.9971\n",
            "Epoch 26/1000\n",
            "2383/2403 [============================>.] - ETA: 0s - loss: 0.0079 - accuracy: 0.9981\n",
            "Epoch 00026: saving model to keypoint_classifier.hdf5\n",
            "2403/2403 [==============================] - 4s 2ms/step - loss: 0.0078 - accuracy: 0.9981 - val_loss: 0.0329 - val_accuracy: 0.9975\n",
            "Epoch 27/1000\n",
            "2400/2403 [============================>.] - ETA: 0s - loss: 0.0074 - accuracy: 0.9981\n",
            "Epoch 00027: saving model to keypoint_classifier.hdf5\n",
            "2403/2403 [==============================] - 4s 2ms/step - loss: 0.0073 - accuracy: 0.9981 - val_loss: 0.0256 - val_accuracy: 0.9955\n",
            "Epoch 28/1000\n",
            "2392/2403 [============================>.] - ETA: 0s - loss: 0.0075 - accuracy: 0.9979\n",
            "Epoch 00028: saving model to keypoint_classifier.hdf5\n",
            "2403/2403 [==============================] - 5s 2ms/step - loss: 0.0074 - accuracy: 0.9979 - val_loss: 0.0287 - val_accuracy: 0.9950\n",
            "Epoch 29/1000\n",
            "2374/2403 [============================>.] - ETA: 0s - loss: 0.0097 - accuracy: 0.9979\n",
            "Epoch 00029: saving model to keypoint_classifier.hdf5\n",
            "2403/2403 [==============================] - 5s 2ms/step - loss: 0.0096 - accuracy: 0.9979 - val_loss: 0.0385 - val_accuracy: 0.9975\n",
            "Epoch 30/1000\n",
            "2369/2403 [============================>.] - ETA: 0s - loss: 0.0043 - accuracy: 0.9990\n",
            "Epoch 00030: saving model to keypoint_classifier.hdf5\n",
            "2403/2403 [==============================] - 4s 2ms/step - loss: 0.0043 - accuracy: 0.9990 - val_loss: 0.0500 - val_accuracy: 0.9975\n",
            "Epoch 31/1000\n",
            "2380/2403 [============================>.] - ETA: 0s - loss: 0.0098 - accuracy: 0.9980\n",
            "Epoch 00031: saving model to keypoint_classifier.hdf5\n",
            "2403/2403 [==============================] - 4s 2ms/step - loss: 0.0098 - accuracy: 0.9980 - val_loss: 0.0226 - val_accuracy: 0.9963\n",
            "Epoch 32/1000\n",
            "2403/2403 [==============================] - ETA: 0s - loss: 0.0062 - accuracy: 0.9983\n",
            "Epoch 00032: saving model to keypoint_classifier.hdf5\n",
            "2403/2403 [==============================] - 4s 2ms/step - loss: 0.0062 - accuracy: 0.9983 - val_loss: 0.0680 - val_accuracy: 0.9975\n",
            "Epoch 33/1000\n",
            "2392/2403 [============================>.] - ETA: 0s - loss: 0.0096 - accuracy: 0.9978\n",
            "Epoch 00033: saving model to keypoint_classifier.hdf5\n",
            "2403/2403 [==============================] - 5s 2ms/step - loss: 0.0099 - accuracy: 0.9978 - val_loss: 0.0563 - val_accuracy: 0.9971\n",
            "Epoch 34/1000\n",
            "2400/2403 [============================>.] - ETA: 0s - loss: 0.0052 - accuracy: 0.9989\n",
            "Epoch 00034: saving model to keypoint_classifier.hdf5\n",
            "2403/2403 [==============================] - 4s 2ms/step - loss: 0.0053 - accuracy: 0.9989 - val_loss: 0.0390 - val_accuracy: 0.9967\n",
            "Epoch 35/1000\n",
            "2399/2403 [============================>.] - ETA: 0s - loss: 0.0060 - accuracy: 0.9985\n",
            "Epoch 00035: saving model to keypoint_classifier.hdf5\n",
            "2403/2403 [==============================] - 4s 2ms/step - loss: 0.0060 - accuracy: 0.9985 - val_loss: 0.0374 - val_accuracy: 0.9971\n",
            "Epoch 36/1000\n",
            "2378/2403 [============================>.] - ETA: 0s - loss: 0.0069 - accuracy: 0.9986\n",
            "Epoch 00036: saving model to keypoint_classifier.hdf5\n",
            "2403/2403 [==============================] - 4s 2ms/step - loss: 0.0070 - accuracy: 0.9985 - val_loss: 0.0229 - val_accuracy: 0.9975\n",
            "Epoch 37/1000\n",
            "2393/2403 [============================>.] - ETA: 0s - loss: 0.0057 - accuracy: 0.9983\n",
            "Epoch 00037: saving model to keypoint_classifier.hdf5\n",
            "2403/2403 [==============================] - 5s 2ms/step - loss: 0.0057 - accuracy: 0.9983 - val_loss: 0.0321 - val_accuracy: 0.9971\n",
            "Epoch 38/1000\n",
            "2382/2403 [============================>.] - ETA: 0s - loss: 0.0115 - accuracy: 0.9976\n",
            "Epoch 00038: saving model to keypoint_classifier.hdf5\n",
            "2403/2403 [==============================] - 4s 2ms/step - loss: 0.0114 - accuracy: 0.9976 - val_loss: 0.0453 - val_accuracy: 0.9971\n",
            "Epoch 39/1000\n",
            "2382/2403 [============================>.] - ETA: 0s - loss: 0.0054 - accuracy: 0.9987\n",
            "Epoch 00039: saving model to keypoint_classifier.hdf5\n",
            "2403/2403 [==============================] - 4s 2ms/step - loss: 0.0054 - accuracy: 0.9987 - val_loss: 0.0609 - val_accuracy: 0.9975\n",
            "Epoch 40/1000\n",
            "2381/2403 [============================>.] - ETA: 0s - loss: 0.0049 - accuracy: 0.9989\n",
            "Epoch 00040: saving model to keypoint_classifier.hdf5\n",
            "2403/2403 [==============================] - 5s 2ms/step - loss: 0.0049 - accuracy: 0.9989 - val_loss: 0.0353 - val_accuracy: 0.9975\n",
            "Epoch 00040: early stopping\n"
          ]
        },
        {
          "data": {
            "text/plain": [
              "<tensorflow.python.keras.callbacks.History at 0x2a84dca02c8>"
            ]
          },
          "execution_count": 12,
          "metadata": {},
          "output_type": "execute_result"
        }
      ],
      "source": [
        "model.fit(\n",
        "    x_train,\n",
        "    y_train,\n",
        "    epochs=1000,\n",
        "    batch_size=5,\n",
        "    validation_data=(x_val, y_val),\n",
        "    callbacks=[cp_callback, es_callback]\n",
        ")"
      ]
    },
    {
      "cell_type": "code",
      "execution_count": 13,
      "metadata": {
        "colab": {
          "base_uri": "https://localhost:8080/"
        },
        "id": "pxvb2Y299hE3",
        "outputId": "59eb3185-2e37-4b9e-bc9d-ab1b8ac29b7f"
      },
      "outputs": [
        {
          "name": "stdout",
          "output_type": "stream",
          "text": [
            "243/243 [==============================] - 0s 959us/step - loss: 8.4480e-04 - accuracy: 1.0000\n"
          ]
        }
      ],
      "source": [
        "# Model evaluation\n",
        "test_loss, test_acc = model.evaluate(x_test, y_test, batch_size=5)"
      ]
    },
    {
      "cell_type": "code",
      "execution_count": 14,
      "metadata": {
        "id": "RBkmDeUW9hE4"
      },
      "outputs": [],
      "source": [
        "# Loading the saved model\n",
        "model = tf.keras.models.load_model(model_save_path)"
      ]
    },
    {
      "cell_type": "code",
      "execution_count": 15,
      "metadata": {
        "colab": {
          "base_uri": "https://localhost:8080/",
          "height": 582
        },
        "id": "AP1V6SCk9hE5",
        "outputId": "08e41a80-7a4a-4619-8125-ecc371368d19"
      },
      "outputs": [
        {
          "data": {
            "image/png": "[encoded data removed]",
            "text/plain": [
              "<Figure size 700x600 with 2 Axes>"
            ]
          },
          "metadata": {},
          "output_type": "display_data"
        },
        {
          "name": "stdout",
          "output_type": "stream",
          "text": [
            "Classification Report\n",
            "              precision    recall  f1-score   support\n",
            "\n",
            "           0       1.00      1.00      1.00       202\n",
            "           1       1.00      1.00      1.00       202\n",
            "           2       1.00      1.00      1.00       205\n",
            "           3       1.00      1.00      1.00       201\n",
            "           4       1.00      1.00      1.00       201\n",
            "           5       1.00      1.00      1.00       202\n",
            "\n",
            "    accuracy                           1.00      1213\n",
            "   macro avg       1.00      1.00      1.00      1213\n",
            "weighted avg       1.00      1.00      1.00      1213\n",
            "\n"
          ]
        }
      ],
      "source": [
        "import pandas as pd\n",
        "import seaborn as sns\n",
        "import matplotlib.pyplot as plt\n",
        "from sklearn.metrics import confusion_matrix, classification_report\n",
        "\n",
        "def print_confusion_matrix(y_true, y_pred, report=True):\n",
        "    labels = sorted(list(set(y_true)))\n",
        "    cmx_data = confusion_matrix(y_true, y_pred, labels=labels)\n",
        "    \n",
        "    df_cmx = pd.DataFrame(cmx_data, index=labels, columns=labels)\n",
        " \n",
        "    fig, ax = plt.subplots(figsize=(7, 6))\n",
        "    sns.heatmap(df_cmx, annot=True, fmt='g' ,square=False)\n",
        "    ax.set_ylim(len(set(y_true)), 0)\n",
        "    plt.show()\n",
        "    \n",
        "    if report:\n",
        "        print('Classification Report')\n",
        "        print(classification_report(y_test, y_pred))\n",
        "\n",
        "Y_pred = model.predict(x_test)\n",
        "y_pred = np.argmax(Y_pred, axis=1)\n",
        "\n",
        "print_confusion_matrix(y_test, y_pred)"
      ]
    },
    {
      "cell_type": "code",
      "execution_count": 16,
      "metadata": {
        "id": "ODjnYyld9hE6"
      },
      "outputs": [],
      "source": [
        "# Save as a model dedicated to inference\n",
        "model.save(model_save_path, include_optimizer=False)"
      ]
    },
    {
      "cell_type": "code",
      "execution_count": 17,
      "metadata": {
        "colab": {
          "base_uri": "https://localhost:8080/"
        },
        "id": "zRfuK8Y59hE6",
        "outputId": "a4ca585c-b5d5-4244-8291-8674063209bb"
      },
      "outputs": [
        {
          "name": "stdout",
          "output_type": "stream",
          "text": [
            "WARNING:tensorflow:From c:\\Users\\trunghoac\\.conda\\envs\\capstone\\lib\\site-packages\\tensorflow\\python\\training\\tracking\\tracking.py:111: Model.state_updates (from tensorflow.python.keras.engine.training) is deprecated and will be removed in a future version.\n",
            "Instructions for updating:\n",
            "This property should not be used in TensorFlow 2.0, as updates are applied automatically.\n",
            "WARNING:tensorflow:From c:\\Users\\trunghoac\\.conda\\envs\\capstone\\lib\\site-packages\\tensorflow\\python\\training\\tracking\\tracking.py:111: Layer.updates (from tensorflow.python.keras.engine.base_layer) is deprecated and will be removed in a future version.\n",
            "Instructions for updating:\n",
            "This property should not be used in TensorFlow 2.0, as updates are applied automatically.\n",
            "INFO:tensorflow:Assets written to: C:\\Users\\TRUNGH~1\\AppData\\Local\\Temp\\tmpto4ezuch\\assets\n"
          ]
        },
        {
          "data": {
            "text/plain": [
              "35376"
            ]
          },
          "execution_count": 17,
          "metadata": {},
          "output_type": "execute_result"
        }
      ],
      "source": [
        "# Transform model (quantization)\n",
        "\n",
        "converter = tf.lite.TFLiteConverter.from_keras_model(model)\n",
        "converter.optimizations = [tf.lite.Optimize.DEFAULT]\n",
        "tflite_quantized_model = converter.convert()\n",
        "\n",
        "open(tflite_save_path, 'wb').write(tflite_quantized_model)"
      ]
    }
  ],
  "metadata": {
    "accelerator": "GPU",
    "colab": {
      "collapsed_sections": [],
      "name": "keypoint_classification_EN.ipynb",
      "provenance": [],
      "toc_visible": true
    },
    "kernelspec": {
      "display_name": "Python 3",
      "language": "python",
      "name": "python3"
    },
    "language_info": {
      "codemirror_mode": {
        "name": "ipython",
        "version": 3
      },
      "file_extension": ".py",
      "mimetype": "text/x-python",
      "name": "python",
      "nbconvert_exporter": "python",
      "pygments_lexer": "ipython3",
      "version": "3.7.16"
    }
  },
  "nbformat": 4,
  "nbformat_minor": 0
}
