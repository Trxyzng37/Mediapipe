{
  "cells": [
    {
      "cell_type": "code",
      "execution_count": 18,
      "metadata": {
        "id": "igMyGnjE9hEp"
      },
      "outputs": [],
      "source": [
        "import csv\n",
        "import os\n",
        "import numpy as np\n",
        "import tensorflow as tf"
      ]
    },
    {
      "cell_type": "code",
      "execution_count": 19,
      "metadata": {
        "id": "9NvZP2Zn9hEy"
      },
      "outputs": [],
      "source": [
        "train_data = 'data_set/data/train/train.csv'\n",
        "val_data = 'data_set/data/val/val.csv'\n",
        "test_data = 'data_set/data/test/test.csv'\n",
        "model_save_path = 'keypoint_classifier.hdf5'\n",
        "tflite_save_path = 'keypoint_classifier.tflite'"
      ]
    },
    {
      "cell_type": "code",
      "execution_count": 20,
      "metadata": {
        "id": "du4kodXL9hEz"
      },
      "outputs": [
        {
          "name": "stdout",
          "output_type": "stream",
          "text": [
            "12\n"
          ]
        }
      ],
      "source": [
        "NUM_CLASSES = 0\n",
        "for item in os.listdir(\"data_set/data/train/\"):\n",
        "    NUM_CLASSES += 1\n",
        "# -1 to remove train.csv\n",
        "NUM_CLASSES -= 1 \n",
        "print(NUM_CLASSES)"
      ]
    },
    {
      "cell_type": "code",
      "execution_count": 21,
      "metadata": {
        "id": "QT5ZqtEz9hE0"
      },
      "outputs": [],
      "source": [
        "x_train = np.loadtxt(train_data, delimiter=',', dtype='float32', usecols=list(range(2, (21 * 2) + 2)))\n",
        "y_train = np.loadtxt(train_data, delimiter=',', dtype='int32', usecols=(1))"
      ]
    },
    {
      "cell_type": "code",
      "execution_count": 22,
      "metadata": {
        "id": "xQU7JTZ_9hE0"
      },
      "outputs": [],
      "source": [
        "x_val = np.loadtxt(val_data, delimiter=',', dtype='float32', usecols=list(range(2, (21 * 2) + 2)))\n",
        "y_val = np.loadtxt(val_data, delimiter=',', dtype='int32', usecols=(1))"
      ]
    },
    {
      "cell_type": "code",
      "execution_count": 23,
      "metadata": {},
      "outputs": [],
      "source": [
        "x_test = np.loadtxt(test_data, delimiter=',', dtype='float32', usecols=list(range(2, (21 * 2) + 2)))\n",
        "y_test = np.loadtxt(test_data, delimiter=',', dtype='int32', usecols=(1))"
      ]
    },
    {
      "cell_type": "code",
      "execution_count": 24,
      "metadata": {
        "id": "vHBmUf1t9hE1"
      },
      "outputs": [],
      "source": [
        "# model = tf.keras.models.Sequential([\n",
        "#     tf.keras.layers.Input((21 * 2, )),\n",
        "#     tf.keras.layers.Dropout(0.2),\n",
        "#     tf.keras.layers.Dense(20, activation='relu'),\n",
        "#     tf.keras.layers.Dropout(0.4),\n",
        "#     tf.keras.layers.Dense(10, activation='relu'),\n",
        "#     tf.keras.layers.Dense(NUM_CLASSES, activation='softmax')\n",
        "# ])"
      ]
    },
    {
      "cell_type": "code",
      "execution_count": 25,
      "metadata": {},
      "outputs": [],
      "source": [
        "input_shape = (42,)\n",
        "model = tf.keras.models.Sequential([\n",
        "    tf.keras.layers.Reshape(input_shape + (1,), input_shape=input_shape),\n",
        "    tf.keras.layers.Conv1D(6, kernel_size=5, activation='relu'),\n",
        "    tf.keras.layers.MaxPooling1D(pool_size=2),\n",
        "    tf.keras.layers.Conv1D(16, kernel_size=5, activation='relu'),\n",
        "    tf.keras.layers.MaxPooling1D(pool_size=2),\n",
        "    tf.keras.layers.Flatten(),\n",
        "    tf.keras.layers.Dense(120, activation='relu'),\n",
        "    tf.keras.layers.Dense(84, activation='relu'),\n",
        "    tf.keras.layers.Dense(NUM_CLASSES, activation='softmax')\n",
        "])\n"
      ]
    },
    {
      "cell_type": "code",
      "execution_count": 26,
      "metadata": {
        "colab": {
          "base_uri": "https://localhost:8080/"
        },
        "id": "ypqky9tc9hE1",
        "outputId": "5db082bb-30e3-4110-bf63-a1ee777ecd46"
      },
      "outputs": [
        {
          "name": "stdout",
          "output_type": "stream",
          "text": [
            "Model: \"sequential_1\"\n",
            "_________________________________________________________________\n",
            "Layer (type)                 Output Shape              Param #   \n",
            "=================================================================\n",
            "reshape_1 (Reshape)          (None, 42, 1)             0         \n",
            "_________________________________________________________________\n",
            "conv1d_2 (Conv1D)            (None, 38, 6)             36        \n",
            "_________________________________________________________________\n",
            "max_pooling1d_2 (MaxPooling1 (None, 19, 6)             0         \n",
            "_________________________________________________________________\n",
            "conv1d_3 (Conv1D)            (None, 15, 16)            496       \n",
            "_________________________________________________________________\n",
            "max_pooling1d_3 (MaxPooling1 (None, 7, 16)             0         \n",
            "_________________________________________________________________\n",
            "flatten_1 (Flatten)          (None, 112)               0         \n",
            "_________________________________________________________________\n",
            "dense_3 (Dense)              (None, 120)               13560     \n",
            "_________________________________________________________________\n",
            "dense_4 (Dense)              (None, 84)                10164     \n",
            "_________________________________________________________________\n",
            "dense_5 (Dense)              (None, 12)                1020      \n",
            "=================================================================\n",
            "Total params: 25,276\n",
            "Trainable params: 25,276\n",
            "Non-trainable params: 0\n",
            "_________________________________________________________________\n"
          ]
        }
      ],
      "source": [
        "model.summary()  "
      ]
    },
    {
      "cell_type": "code",
      "execution_count": 27,
      "metadata": {
        "id": "MbMjOflQ9hE1"
      },
      "outputs": [],
      "source": [
        "# Model checkpoint callback\n",
        "cp_callback = tf.keras.callbacks.ModelCheckpoint(\n",
        "    model_save_path, verbose=1, save_weights_only=False)\n",
        "# Callback for early stopping\n",
        "es_callback = tf.keras.callbacks.EarlyStopping(patience=20, verbose=1)"
      ]
    },
    {
      "cell_type": "code",
      "execution_count": 28,
      "metadata": {
        "id": "c3Dac0M_9hE2"
      },
      "outputs": [],
      "source": [
        "# Model compilation\n",
        "model.compile(\n",
        "    optimizer='adam',\n",
        "    loss='sparse_categorical_crossentropy',\n",
        "    metrics=['accuracy']\n",
        ")"
      ]
    },
    {
      "cell_type": "code",
      "execution_count": 29,
      "metadata": {
        "colab": {
          "base_uri": "https://localhost:8080/"
        },
        "id": "WirBl-JE9hE3",
        "outputId": "71b30ca2-8294-4d9d-8aa2-800d90d399de",
        "scrolled": true
      },
      "outputs": [
        {
          "name": "stdout",
          "output_type": "stream",
          "text": [
            "Epoch 1/1000\n",
            "4802/4808 [============================>.] - ETA: 0s - loss: 0.5312 - accuracy: 0.7917\n",
            "Epoch 00001: saving model to keypoint_classifier.hdf5\n",
            "4808/4808 [==============================] - 12s 2ms/step - loss: 0.5309 - accuracy: 0.7919 - val_loss: 0.2867 - val_accuracy: 0.9065\n",
            "Epoch 2/1000\n",
            "4794/4808 [============================>.] - ETA: 0s - loss: 0.1655 - accuracy: 0.9421\n",
            "Epoch 00002: saving model to keypoint_classifier.hdf5\n",
            "4808/4808 [==============================] - 12s 2ms/step - loss: 0.1652 - accuracy: 0.9422 - val_loss: 0.1730 - val_accuracy: 0.9468\n",
            "Epoch 3/1000\n",
            "4805/4808 [============================>.] - ETA: 0s - loss: 0.1170 - accuracy: 0.9595\n",
            "Epoch 00003: saving model to keypoint_classifier.hdf5\n",
            "4808/4808 [==============================] - 11s 2ms/step - loss: 0.1169 - accuracy: 0.9595 - val_loss: 0.1384 - val_accuracy: 0.9575\n",
            "Epoch 4/1000\n",
            "4804/4808 [============================>.] - ETA: 0s - loss: 0.0900 - accuracy: 0.9708\n",
            "Epoch 00004: saving model to keypoint_classifier.hdf5\n",
            "4808/4808 [==============================] - 11s 2ms/step - loss: 0.0900 - accuracy: 0.9708 - val_loss: 0.1561 - val_accuracy: 0.9540\n",
            "Epoch 5/1000\n",
            "4805/4808 [============================>.] - ETA: 0s - loss: 0.0643 - accuracy: 0.9801\n",
            "Epoch 00005: saving model to keypoint_classifier.hdf5\n",
            "4808/4808 [==============================] - 14s 3ms/step - loss: 0.0644 - accuracy: 0.9801 - val_loss: 0.1562 - val_accuracy: 0.9552\n",
            "Epoch 6/1000\n",
            "4795/4808 [============================>.] - ETA: 0s - loss: 0.0516 - accuracy: 0.9852\n",
            "Epoch 00006: saving model to keypoint_classifier.hdf5\n",
            "4808/4808 [==============================] - 11s 2ms/step - loss: 0.0516 - accuracy: 0.9853 - val_loss: 0.1620 - val_accuracy: 0.9565\n",
            "Epoch 7/1000\n",
            "4806/4808 [============================>.] - ETA: 0s - loss: 0.0435 - accuracy: 0.9875\n",
            "Epoch 00007: saving model to keypoint_classifier.hdf5\n",
            "4808/4808 [==============================] - 11s 2ms/step - loss: 0.0434 - accuracy: 0.9875 - val_loss: 0.1226 - val_accuracy: 0.9668\n",
            "Epoch 8/1000\n",
            "4790/4808 [============================>.] - ETA: 0s - loss: 0.0379 - accuracy: 0.9890\n",
            "Epoch 00008: saving model to keypoint_classifier.hdf5\n",
            "4808/4808 [==============================] - 11s 2ms/step - loss: 0.0378 - accuracy: 0.9890 - val_loss: 0.0726 - val_accuracy: 0.9823\n",
            "Epoch 9/1000\n",
            "4806/4808 [============================>.] - ETA: 0s - loss: 0.0334 - accuracy: 0.9906\n",
            "Epoch 00009: saving model to keypoint_classifier.hdf5\n",
            "4808/4808 [==============================] - 13s 3ms/step - loss: 0.0334 - accuracy: 0.9906 - val_loss: 0.0992 - val_accuracy: 0.9748\n",
            "Epoch 10/1000\n",
            "4808/4808 [==============================] - ETA: 0s - loss: 0.0311 - accuracy: 0.9913\n",
            "Epoch 00010: saving model to keypoint_classifier.hdf5\n",
            "4808/4808 [==============================] - 12s 3ms/step - loss: 0.0311 - accuracy: 0.9913 - val_loss: 0.0881 - val_accuracy: 0.9790\n",
            "Epoch 11/1000\n",
            "4792/4808 [============================>.] - ETA: 0s - loss: 0.0277 - accuracy: 0.9927\n",
            "Epoch 00011: saving model to keypoint_classifier.hdf5\n",
            "4808/4808 [==============================] - 11s 2ms/step - loss: 0.0276 - accuracy: 0.9927 - val_loss: 0.0943 - val_accuracy: 0.9748\n",
            "Epoch 12/1000\n",
            "4787/4808 [============================>.] - ETA: 0s - loss: 0.0275 - accuracy: 0.9926\n",
            "Epoch 00012: saving model to keypoint_classifier.hdf5\n",
            "4808/4808 [==============================] - 12s 2ms/step - loss: 0.0274 - accuracy: 0.9926 - val_loss: 0.1193 - val_accuracy: 0.9657\n",
            "Epoch 13/1000\n",
            "4805/4808 [============================>.] - ETA: 0s - loss: 0.0254 - accuracy: 0.9925\n",
            "Epoch 00013: saving model to keypoint_classifier.hdf5\n",
            "4808/4808 [==============================] - 17s 3ms/step - loss: 0.0254 - accuracy: 0.9926 - val_loss: 0.0828 - val_accuracy: 0.9794\n",
            "Epoch 14/1000\n",
            "4790/4808 [============================>.] - ETA: 0s - loss: 0.0227 - accuracy: 0.9939\n",
            "Epoch 00014: saving model to keypoint_classifier.hdf5\n",
            "4808/4808 [==============================] - 11s 2ms/step - loss: 0.0230 - accuracy: 0.9939 - val_loss: 0.1038 - val_accuracy: 0.9800\n",
            "Epoch 15/1000\n",
            "4798/4808 [============================>.] - ETA: 0s - loss: 0.0267 - accuracy: 0.9931\n",
            "Epoch 00015: saving model to keypoint_classifier.hdf5\n",
            "4808/4808 [==============================] - 11s 2ms/step - loss: 0.0266 - accuracy: 0.9931 - val_loss: 0.1032 - val_accuracy: 0.9763\n",
            "Epoch 16/1000\n",
            "4789/4808 [============================>.] - ETA: 0s - loss: 0.0228 - accuracy: 0.9937\n",
            "Epoch 00016: saving model to keypoint_classifier.hdf5\n",
            "4808/4808 [==============================] - 17s 4ms/step - loss: 0.0229 - accuracy: 0.9937 - val_loss: 0.1048 - val_accuracy: 0.9773\n",
            "Epoch 17/1000\n",
            "4797/4808 [============================>.] - ETA: 0s - loss: 0.0231 - accuracy: 0.9933\n",
            "Epoch 00017: saving model to keypoint_classifier.hdf5\n",
            "4808/4808 [==============================] - 11s 2ms/step - loss: 0.0231 - accuracy: 0.9933 - val_loss: 0.0985 - val_accuracy: 0.9787\n",
            "Epoch 18/1000\n",
            "4806/4808 [============================>.] - ETA: 0s - loss: 0.0192 - accuracy: 0.9948\n",
            "Epoch 00018: saving model to keypoint_classifier.hdf5\n",
            "4808/4808 [==============================] - 11s 2ms/step - loss: 0.0192 - accuracy: 0.9948 - val_loss: 0.0854 - val_accuracy: 0.9858\n",
            "Epoch 19/1000\n",
            "4807/4808 [============================>.] - ETA: 0s - loss: 0.0183 - accuracy: 0.9948\n",
            "Epoch 00019: saving model to keypoint_classifier.hdf5\n",
            "4808/4808 [==============================] - 11s 2ms/step - loss: 0.0183 - accuracy: 0.9948 - val_loss: 0.2553 - val_accuracy: 0.9616\n",
            "Epoch 20/1000\n",
            "4784/4808 [============================>.] - ETA: 0s - loss: 0.0193 - accuracy: 0.9952\n",
            "Epoch 00020: saving model to keypoint_classifier.hdf5\n",
            "4808/4808 [==============================] - 12s 3ms/step - loss: 0.0192 - accuracy: 0.9953 - val_loss: 0.0863 - val_accuracy: 0.9862\n",
            "Epoch 21/1000\n",
            "4788/4808 [============================>.] - ETA: 0s - loss: 0.0167 - accuracy: 0.9949\n",
            "Epoch 00021: saving model to keypoint_classifier.hdf5\n",
            "4808/4808 [==============================] - 13s 3ms/step - loss: 0.0167 - accuracy: 0.9950 - val_loss: 0.0810 - val_accuracy: 0.9860\n",
            "Epoch 22/1000\n",
            "4800/4808 [============================>.] - ETA: 0s - loss: 0.0179 - accuracy: 0.9952\n",
            "Epoch 00022: saving model to keypoint_classifier.hdf5\n",
            "4808/4808 [==============================] - 12s 3ms/step - loss: 0.0179 - accuracy: 0.9952 - val_loss: 0.1290 - val_accuracy: 0.9767\n",
            "Epoch 23/1000\n",
            "4805/4808 [============================>.] - ETA: 0s - loss: 0.0165 - accuracy: 0.9955\n",
            "Epoch 00023: saving model to keypoint_classifier.hdf5\n",
            "4808/4808 [==============================] - 12s 3ms/step - loss: 0.0165 - accuracy: 0.9955 - val_loss: 0.0859 - val_accuracy: 0.9866\n",
            "Epoch 24/1000\n",
            "4799/4808 [============================>.] - ETA: 0s - loss: 0.0154 - accuracy: 0.9958\n",
            "Epoch 00024: saving model to keypoint_classifier.hdf5\n",
            "4808/4808 [==============================] - 14s 3ms/step - loss: 0.0153 - accuracy: 0.9958 - val_loss: 0.0975 - val_accuracy: 0.9849\n",
            "Epoch 25/1000\n",
            "4807/4808 [============================>.] - ETA: 0s - loss: 0.0172 - accuracy: 0.9956\n",
            "Epoch 00025: saving model to keypoint_classifier.hdf5\n",
            "4808/4808 [==============================] - 14s 3ms/step - loss: 0.0172 - accuracy: 0.9956 - val_loss: 0.1650 - val_accuracy: 0.9767\n",
            "Epoch 26/1000\n",
            "4800/4808 [============================>.] - ETA: 0s - loss: 0.0168 - accuracy: 0.9956\n",
            "Epoch 00026: saving model to keypoint_classifier.hdf5\n",
            "4808/4808 [==============================] - 15s 3ms/step - loss: 0.0168 - accuracy: 0.9956 - val_loss: 0.0938 - val_accuracy: 0.9870\n",
            "Epoch 27/1000\n",
            "4802/4808 [============================>.] - ETA: 0s - loss: 0.0138 - accuracy: 0.9962\n",
            "Epoch 00027: saving model to keypoint_classifier.hdf5\n",
            "4808/4808 [==============================] - 13s 3ms/step - loss: 0.0138 - accuracy: 0.9962 - val_loss: 0.1134 - val_accuracy: 0.9820\n",
            "Epoch 28/1000\n",
            "4794/4808 [============================>.] - ETA: 0s - loss: 0.0174 - accuracy: 0.9950\n",
            "Epoch 00028: saving model to keypoint_classifier.hdf5\n",
            "4808/4808 [==============================] - 14s 3ms/step - loss: 0.0174 - accuracy: 0.9950 - val_loss: 0.1147 - val_accuracy: 0.9814\n",
            "Epoch 00028: early stopping\n"
          ]
        },
        {
          "data": {
            "text/plain": [
              "<tensorflow.python.keras.callbacks.History at 0x1cedeb56e48>"
            ]
          },
          "execution_count": 29,
          "metadata": {},
          "output_type": "execute_result"
        }
      ],
      "source": [
        "model.fit(\n",
        "    x_train,\n",
        "    y_train,\n",
        "    epochs=1000,\n",
        "    batch_size=5,\n",
        "    validation_data=(x_val, y_val),\n",
        "    callbacks=[cp_callback, es_callback]\n",
        ")"
      ]
    },
    {
      "cell_type": "code",
      "execution_count": 30,
      "metadata": {
        "colab": {
          "base_uri": "https://localhost:8080/"
        },
        "id": "pxvb2Y299hE3",
        "outputId": "59eb3185-2e37-4b9e-bc9d-ab1b8ac29b7f"
      },
      "outputs": [
        {
          "name": "stdout",
          "output_type": "stream",
          "text": [
            "487/487 [==============================] - 1s 1ms/step - loss: 0.1252 - accuracy: 0.9745\n"
          ]
        }
      ],
      "source": [
        "# Model evaluation\n",
        "test_loss, test_acc = model.evaluate(x_test, y_test, batch_size=5)"
      ]
    },
    {
      "cell_type": "code",
      "execution_count": 31,
      "metadata": {
        "id": "RBkmDeUW9hE4"
      },
      "outputs": [],
      "source": [
        "# Loading the saved model\n",
        "model = tf.keras.models.load_model(model_save_path)"
      ]
    },
    {
      "cell_type": "code",
      "execution_count": 32,
      "metadata": {
        "colab": {
          "base_uri": "https://localhost:8080/",
          "height": 582
        },
        "id": "AP1V6SCk9hE5",
        "outputId": "08e41a80-7a4a-4619-8125-ecc371368d19"
      },
      "outputs": [
        {
          "data": {
            "image/png": "[encoded data removed]",
            "text/plain": [
              "<Figure size 700x600 with 2 Axes>"
            ]
          },
          "metadata": {},
          "output_type": "display_data"
        },
        {
          "name": "stdout",
          "output_type": "stream",
          "text": [
            "Classification Report\n",
            "              precision    recall  f1-score   support\n",
            "\n",
            "           0       1.00      1.00      1.00       202\n",
            "           1       0.99      0.99      0.99       202\n",
            "           2       1.00      1.00      1.00       205\n",
            "           3       1.00      0.97      0.98       203\n",
            "           4       0.96      0.98      0.97       203\n",
            "           5       1.00      1.00      1.00       202\n",
            "           6       0.98      0.99      0.99       201\n",
            "           7       0.83      0.97      0.89       203\n",
            "           8       0.99      0.99      0.99       203\n",
            "           9       0.99      1.00      0.99       201\n",
            "          10       1.00      1.00      1.00       203\n",
            "          11       0.99      0.83      0.90       206\n",
            "\n",
            "    accuracy                           0.97      2434\n",
            "   macro avg       0.98      0.97      0.97      2434\n",
            "weighted avg       0.98      0.97      0.97      2434\n",
            "\n"
          ]
        }
      ],
      "source": [
        "import pandas as pd\n",
        "import seaborn as sns\n",
        "import matplotlib.pyplot as plt\n",
        "from sklearn.metrics import confusion_matrix, classification_report\n",
        "\n",
        "def print_confusion_matrix(y_true, y_pred, report=True):\n",
        "    labels = sorted(list(set(y_true)))\n",
        "    cmx_data = confusion_matrix(y_true, y_pred, labels=labels)\n",
        "    \n",
        "    df_cmx = pd.DataFrame(cmx_data, index=labels, columns=labels)\n",
        " \n",
        "    fig, ax = plt.subplots(figsize=(7, 6))\n",
        "    sns.heatmap(df_cmx, annot=True, fmt='g' ,square=False)\n",
        "    ax.set_ylim(len(set(y_true)), 0)\n",
        "    plt.show()\n",
        "    \n",
        "    if report:\n",
        "        print('Classification Report')\n",
        "        print(classification_report(y_test, y_pred))\n",
        "\n",
        "Y_pred = model.predict(x_test)\n",
        "y_pred = np.argmax(Y_pred, axis=1)\n",
        "\n",
        "print_confusion_matrix(y_test, y_pred)"
      ]
    },
    {
      "cell_type": "code",
      "execution_count": 33,
      "metadata": {
        "id": "ODjnYyld9hE6"
      },
      "outputs": [],
      "source": [
        "# Save as a model dedicated to inference\n",
        "model.save(model_save_path, include_optimizer=False)"
      ]
    },
    {
      "cell_type": "code",
      "execution_count": 34,
      "metadata": {
        "colab": {
          "base_uri": "https://localhost:8080/"
        },
        "id": "zRfuK8Y59hE6",
        "outputId": "a4ca585c-b5d5-4244-8291-8674063209bb"
      },
      "outputs": [
        {
          "name": "stdout",
          "output_type": "stream",
          "text": [
            "INFO:tensorflow:Assets written to: C:\\Users\\TRUNGH~1\\AppData\\Local\\Temp\\tmpnzke5ewn\\assets\n"
          ]
        },
        {
          "name": "stderr",
          "output_type": "stream",
          "text": [
            "INFO:tensorflow:Assets written to: C:\\Users\\TRUNGH~1\\AppData\\Local\\Temp\\tmpnzke5ewn\\assets\n"
          ]
        },
        {
          "data": {
            "text/plain": [
              "37568"
            ]
          },
          "execution_count": 34,
          "metadata": {},
          "output_type": "execute_result"
        }
      ],
      "source": [
        "# Transform model (quantization)\n",
        "\n",
        "converter = tf.lite.TFLiteConverter.from_keras_model(model)\n",
        "converter.optimizations = [tf.lite.Optimize.DEFAULT]\n",
        "tflite_quantized_model = converter.convert()\n",
        "\n",
        "open(tflite_save_path, 'wb').write(tflite_quantized_model)"
      ]
    }
  ],
  "metadata": {
    "accelerator": "GPU",
    "colab": {
      "collapsed_sections": [],
      "name": "keypoint_classification_EN.ipynb",
      "provenance": [],
      "toc_visible": true
    },
    "kernelspec": {
      "display_name": "Python 3",
      "language": "python",
      "name": "python3"
    },
    "language_info": {
      "codemirror_mode": {
        "name": "ipython",
        "version": 3
      },
      "file_extension": ".py",
      "mimetype": "text/x-python",
      "name": "python",
      "nbconvert_exporter": "python",
      "pygments_lexer": "ipython3",
      "version": "3.7.16"
    }
  },
  "nbformat": 4,
  "nbformat_minor": 0
}
