{
  "cells": [
    {
      "cell_type": "code",
      "execution_count": 1,
      "metadata": {
        "id": "igMyGnjE9hEp"
      },
      "outputs": [],
      "source": [
        "import csv\n",
        "import os\n",
        "import numpy as np\n",
        "import tensorflow as tf"
      ]
    },
    {
      "cell_type": "code",
      "execution_count": 2,
      "metadata": {
        "id": "9NvZP2Zn9hEy"
      },
      "outputs": [],
      "source": [
        "train_data = 'data_set/data/train/train.csv'\n",
        "val_data = 'data_set/data/val/val.csv'\n",
        "test_data = 'data_set/data/test/test.csv'\n",
        "model_save_path = 'keypoint_classifier.hdf5'\n",
        "tflite_save_path = 'keypoint_classifier.tflite'"
      ]
    },
    {
      "cell_type": "code",
      "execution_count": 3,
      "metadata": {
        "id": "du4kodXL9hEz"
      },
      "outputs": [
        {
          "name": "stdout",
          "output_type": "stream",
          "text": [
            "4\n"
          ]
        }
      ],
      "source": [
        "NUM_CLASSES = 0\n",
        "for item in os.listdir(\"data_set/data/train/\"):\n",
        "    NUM_CLASSES += 1\n",
        "# -1 to remove train.csv\n",
        "NUM_CLASSES -= 1 \n",
        "print(NUM_CLASSES)"
      ]
    },
    {
      "cell_type": "code",
      "execution_count": 4,
      "metadata": {
        "id": "QT5ZqtEz9hE0"
      },
      "outputs": [],
      "source": [
        "x_train = np.loadtxt(train_data, delimiter=',', dtype='float32', usecols=list(range(2, (21 * 2) + 2)))\n",
        "y_train = np.loadtxt(train_data, delimiter=',', dtype='int32', usecols=(1))"
      ]
    },
    {
      "cell_type": "code",
      "execution_count": 5,
      "metadata": {
        "id": "xQU7JTZ_9hE0"
      },
      "outputs": [],
      "source": [
        "x_val = np.loadtxt(val_data, delimiter=',', dtype='float32', usecols=list(range(2, (21 * 2) + 2)))\n",
        "y_val = np.loadtxt(val_data, delimiter=',', dtype='int32', usecols=(1))"
      ]
    },
    {
      "cell_type": "code",
      "execution_count": 6,
      "metadata": {},
      "outputs": [],
      "source": [
        "x_test = np.loadtxt(test_data, delimiter=',', dtype='float32', usecols=list(range(2, (21 * 2) + 2)))\n",
        "y_test = np.loadtxt(test_data, delimiter=',', dtype='int32', usecols=(1))"
      ]
    },
    {
      "cell_type": "code",
      "execution_count": 7,
      "metadata": {
        "id": "vHBmUf1t9hE1"
      },
      "outputs": [],
      "source": [
        "# model = tf.keras.models.Sequential([\n",
        "#     tf.keras.layers.Input((21 * 2, )),\n",
        "#     tf.keras.layers.Dropout(0.2),\n",
        "#     tf.keras.layers.Dense(20, activation='relu'),\n",
        "#     tf.keras.layers.Dropout(0.4),\n",
        "#     tf.keras.layers.Dense(10, activation='relu'),\n",
        "#     tf.keras.layers.Dense(NUM_CLASSES, activation='softmax')\n",
        "# ])"
      ]
    },
    {
      "cell_type": "code",
      "execution_count": 8,
      "metadata": {},
      "outputs": [],
      "source": [
        "input_shape = (42,)\n",
        "model = tf.keras.models.Sequential([\n",
        "    tf.keras.layers.Reshape(input_shape + (1,), input_shape=input_shape),\n",
        "    tf.keras.layers.Conv1D(6, kernel_size=5, activation='relu'),\n",
        "    tf.keras.layers.MaxPooling1D(pool_size=2),\n",
        "    tf.keras.layers.Conv1D(16, kernel_size=5, activation='relu'),\n",
        "    tf.keras.layers.MaxPooling1D(pool_size=2),\n",
        "    tf.keras.layers.Flatten(),\n",
        "    tf.keras.layers.Dense(120, activation='relu'),\n",
        "    tf.keras.layers.Dense(84, activation='relu'),\n",
        "    tf.keras.layers.Dense(NUM_CLASSES, activation='softmax')\n",
        "])\n"
      ]
    },
    {
      "cell_type": "code",
      "execution_count": 9,
      "metadata": {
        "colab": {
          "base_uri": "https://localhost:8080/"
        },
        "id": "ypqky9tc9hE1",
        "outputId": "5db082bb-30e3-4110-bf63-a1ee777ecd46"
      },
      "outputs": [
        {
          "name": "stdout",
          "output_type": "stream",
          "text": [
            "Model: \"sequential\"\n",
            "_________________________________________________________________\n",
            "Layer (type)                 Output Shape              Param #   \n",
            "=================================================================\n",
            "reshape (Reshape)            (None, 42, 1)             0         \n",
            "_________________________________________________________________\n",
            "conv1d (Conv1D)              (None, 38, 6)             36        \n",
            "_________________________________________________________________\n",
            "max_pooling1d (MaxPooling1D) (None, 19, 6)             0         \n",
            "_________________________________________________________________\n",
            "conv1d_1 (Conv1D)            (None, 15, 16)            496       \n",
            "_________________________________________________________________\n",
            "max_pooling1d_1 (MaxPooling1 (None, 7, 16)             0         \n",
            "_________________________________________________________________\n",
            "flatten (Flatten)            (None, 112)               0         \n",
            "_________________________________________________________________\n",
            "dense (Dense)                (None, 120)               13560     \n",
            "_________________________________________________________________\n",
            "dense_1 (Dense)              (None, 84)                10164     \n",
            "_________________________________________________________________\n",
            "dense_2 (Dense)              (None, 4)                 340       \n",
            "=================================================================\n",
            "Total params: 24,596\n",
            "Trainable params: 24,596\n",
            "Non-trainable params: 0\n",
            "_________________________________________________________________\n"
          ]
        }
      ],
      "source": [
        "model.summary()  "
      ]
    },
    {
      "cell_type": "code",
      "execution_count": 10,
      "metadata": {
        "id": "MbMjOflQ9hE1"
      },
      "outputs": [],
      "source": [
        "# Model checkpoint callback\n",
        "cp_callback = tf.keras.callbacks.ModelCheckpoint(\n",
        "    model_save_path, verbose=1, save_weights_only=False)\n",
        "# Callback for early stopping\n",
        "es_callback = tf.keras.callbacks.EarlyStopping(patience=20, verbose=1)"
      ]
    },
    {
      "cell_type": "code",
      "execution_count": 11,
      "metadata": {
        "id": "c3Dac0M_9hE2"
      },
      "outputs": [],
      "source": [
        "# Model compilation\n",
        "model.compile(\n",
        "    optimizer='adam',\n",
        "    loss='sparse_categorical_crossentropy',\n",
        "    metrics=['accuracy']\n",
        ")"
      ]
    },
    {
      "cell_type": "code",
      "execution_count": 12,
      "metadata": {
        "colab": {
          "base_uri": "https://localhost:8080/"
        },
        "id": "WirBl-JE9hE3",
        "outputId": "71b30ca2-8294-4d9d-8aa2-800d90d399de",
        "scrolled": true
      },
      "outputs": [
        {
          "name": "stdout",
          "output_type": "stream",
          "text": [
            "Epoch 1/1000\n",
            "405/409 [============================>.] - ETA: 0s - loss: 0.3686 - accuracy: 0.8731\n",
            "Epoch 00001: saving model to keypoint_classifier.hdf5\n",
            "409/409 [==============================] - 3s 8ms/step - loss: 0.3653 - accuracy: 0.8743 - val_loss: 0.0776 - val_accuracy: 0.9758\n",
            "Epoch 2/1000\n",
            "394/409 [===========================>..] - ETA: 0s - loss: 0.0645 - accuracy: 0.9858\n",
            "Epoch 00002: saving model to keypoint_classifier.hdf5\n",
            "409/409 [==============================] - 2s 5ms/step - loss: 0.0657 - accuracy: 0.9853 - val_loss: 0.0356 - val_accuracy: 0.9831\n",
            "Epoch 3/1000\n",
            "405/409 [============================>.] - ETA: 0s - loss: 0.0489 - accuracy: 0.9901\n",
            "Epoch 00003: saving model to keypoint_classifier.hdf5\n",
            "409/409 [==============================] - 2s 6ms/step - loss: 0.0492 - accuracy: 0.9897 - val_loss: 0.0268 - val_accuracy: 0.9928\n",
            "Epoch 4/1000\n",
            "398/409 [============================>.] - ETA: 0s - loss: 0.0410 - accuracy: 0.9905\n",
            "Epoch 00004: saving model to keypoint_classifier.hdf5\n",
            "409/409 [==============================] - 2s 6ms/step - loss: 0.0419 - accuracy: 0.9897 - val_loss: 0.0537 - val_accuracy: 0.9807\n",
            "Epoch 5/1000\n",
            "403/409 [============================>.] - ETA: 0s - loss: 0.0423 - accuracy: 0.9896\n",
            "Epoch 00005: saving model to keypoint_classifier.hdf5\n",
            "409/409 [==============================] - 1s 3ms/step - loss: 0.0417 - accuracy: 0.9897 - val_loss: 0.0119 - val_accuracy: 0.9952\n",
            "Epoch 6/1000\n",
            "400/409 [============================>.] - ETA: 0s - loss: 0.0372 - accuracy: 0.9915\n",
            "Epoch 00006: saving model to keypoint_classifier.hdf5\n",
            "409/409 [==============================] - 2s 5ms/step - loss: 0.0365 - accuracy: 0.9917 - val_loss: 0.0050 - val_accuracy: 1.0000\n",
            "Epoch 7/1000\n",
            "406/409 [============================>.] - ETA: 0s - loss: 0.0361 - accuracy: 0.9921\n",
            "Epoch 00007: saving model to keypoint_classifier.hdf5\n",
            "409/409 [==============================] - 2s 6ms/step - loss: 0.0360 - accuracy: 0.9922 - val_loss: 0.1278 - val_accuracy: 0.9589\n",
            "Epoch 8/1000\n",
            "404/409 [============================>.] - ETA: 0s - loss: 0.0341 - accuracy: 0.9931\n",
            "Epoch 00008: saving model to keypoint_classifier.hdf5\n",
            "409/409 [==============================] - 2s 4ms/step - loss: 0.0340 - accuracy: 0.9932 - val_loss: 0.0127 - val_accuracy: 0.9952\n",
            "Epoch 9/1000\n",
            "404/409 [============================>.] - ETA: 0s - loss: 0.0253 - accuracy: 0.9950\n",
            "Epoch 00009: saving model to keypoint_classifier.hdf5\n",
            "409/409 [==============================] - 3s 7ms/step - loss: 0.0251 - accuracy: 0.9951 - val_loss: 0.0132 - val_accuracy: 0.9952\n",
            "Epoch 10/1000\n",
            "397/409 [============================>.] - ETA: 0s - loss: 0.0221 - accuracy: 0.9935\n",
            "Epoch 00010: saving model to keypoint_classifier.hdf5\n",
            "409/409 [==============================] - 2s 4ms/step - loss: 0.0223 - accuracy: 0.9932 - val_loss: 0.0071 - val_accuracy: 1.0000\n",
            "Epoch 11/1000\n",
            "399/409 [============================>.] - ETA: 0s - loss: 0.0292 - accuracy: 0.9900\n",
            "Epoch 00011: saving model to keypoint_classifier.hdf5\n",
            "409/409 [==============================] - 1s 3ms/step - loss: 0.0286 - accuracy: 0.9902 - val_loss: 0.0320 - val_accuracy: 0.9879\n",
            "Epoch 12/1000\n",
            "408/409 [============================>.] - ETA: 0s - loss: 0.0225 - accuracy: 0.9941\n",
            "Epoch 00012: saving model to keypoint_classifier.hdf5\n",
            "409/409 [==============================] - 2s 6ms/step - loss: 0.0225 - accuracy: 0.9941 - val_loss: 0.0837 - val_accuracy: 0.9831\n",
            "Epoch 13/1000\n",
            "398/409 [============================>.] - ETA: 0s - loss: 0.0205 - accuracy: 0.9955\n",
            "Epoch 00013: saving model to keypoint_classifier.hdf5\n",
            "409/409 [==============================] - 2s 4ms/step - loss: 0.0202 - accuracy: 0.9956 - val_loss: 0.0142 - val_accuracy: 0.9928\n",
            "Epoch 14/1000\n",
            "408/409 [============================>.] - ETA: 0s - loss: 0.0202 - accuracy: 0.9946\n",
            "Epoch 00014: saving model to keypoint_classifier.hdf5\n",
            "409/409 [==============================] - 2s 4ms/step - loss: 0.0202 - accuracy: 0.9946 - val_loss: 0.0234 - val_accuracy: 0.9903\n",
            "Epoch 15/1000\n",
            "405/409 [============================>.] - ETA: 0s - loss: 0.0164 - accuracy: 0.9951\n",
            "Epoch 00015: saving model to keypoint_classifier.hdf5\n",
            "409/409 [==============================] - 2s 4ms/step - loss: 0.0162 - accuracy: 0.9951 - val_loss: 0.0198 - val_accuracy: 0.9928\n",
            "Epoch 16/1000\n",
            "408/409 [============================>.] - ETA: 0s - loss: 0.0157 - accuracy: 0.9971\n",
            "Epoch 00016: saving model to keypoint_classifier.hdf5\n",
            "409/409 [==============================] - 2s 4ms/step - loss: 0.0157 - accuracy: 0.9971 - val_loss: 0.0048 - val_accuracy: 0.9976\n",
            "Epoch 17/1000\n",
            "403/409 [============================>.] - ETA: 0s - loss: 0.0145 - accuracy: 0.9965\n",
            "Epoch 00017: saving model to keypoint_classifier.hdf5\n",
            "409/409 [==============================] - 2s 5ms/step - loss: 0.0143 - accuracy: 0.9966 - val_loss: 0.0179 - val_accuracy: 0.9952\n",
            "Epoch 18/1000\n",
            "394/409 [===========================>..] - ETA: 0s - loss: 0.0159 - accuracy: 0.9964\n",
            "Epoch 00018: saving model to keypoint_classifier.hdf5\n",
            "409/409 [==============================] - 2s 4ms/step - loss: 0.0154 - accuracy: 0.9966 - val_loss: 0.0200 - val_accuracy: 0.9928\n",
            "Epoch 19/1000\n",
            "394/409 [===========================>..] - ETA: 0s - loss: 0.0143 - accuracy: 0.9970\n",
            "Epoch 00019: saving model to keypoint_classifier.hdf5\n",
            "409/409 [==============================] - 2s 4ms/step - loss: 0.0138 - accuracy: 0.9971 - val_loss: 0.0228 - val_accuracy: 0.9928\n",
            "Epoch 20/1000\n",
            "393/409 [===========================>..] - ETA: 0s - loss: 0.0129 - accuracy: 0.9969\n",
            "Epoch 00020: saving model to keypoint_classifier.hdf5\n",
            "409/409 [==============================] - 1s 3ms/step - loss: 0.0124 - accuracy: 0.9971 - val_loss: 0.0523 - val_accuracy: 0.9879\n",
            "Epoch 21/1000\n",
            "408/409 [============================>.] - ETA: 0s - loss: 0.0245 - accuracy: 0.9961\n",
            "Epoch 00021: saving model to keypoint_classifier.hdf5\n",
            "409/409 [==============================] - 2s 4ms/step - loss: 0.0245 - accuracy: 0.9961 - val_loss: 0.0097 - val_accuracy: 0.9952\n",
            "Epoch 22/1000\n",
            "395/409 [===========================>..] - ETA: 0s - loss: 0.0127 - accuracy: 0.9959\n",
            "Epoch 00022: saving model to keypoint_classifier.hdf5\n",
            "409/409 [==============================] - 2s 5ms/step - loss: 0.0123 - accuracy: 0.9961 - val_loss: 0.0056 - val_accuracy: 0.9976\n",
            "Epoch 23/1000\n",
            "400/409 [============================>.] - ETA: 0s - loss: 0.0103 - accuracy: 0.9975\n",
            "Epoch 00023: saving model to keypoint_classifier.hdf5\n",
            "409/409 [==============================] - 1s 3ms/step - loss: 0.0101 - accuracy: 0.9976 - val_loss: 0.0037 - val_accuracy: 1.0000\n",
            "Epoch 24/1000\n",
            "400/409 [============================>.] - ETA: 0s - loss: 0.0100 - accuracy: 0.9985\n",
            "Epoch 00024: saving model to keypoint_classifier.hdf5\n",
            "409/409 [==============================] - 2s 4ms/step - loss: 0.0098 - accuracy: 0.9985 - val_loss: 0.0142 - val_accuracy: 0.9952\n",
            "Epoch 25/1000\n",
            "403/409 [============================>.] - ETA: 0s - loss: 0.0079 - accuracy: 0.9980\n",
            "Epoch 00025: saving model to keypoint_classifier.hdf5\n",
            "409/409 [==============================] - 2s 4ms/step - loss: 0.0078 - accuracy: 0.9980 - val_loss: 0.0429 - val_accuracy: 0.9903\n",
            "Epoch 26/1000\n",
            "396/409 [============================>.] - ETA: 0s - loss: 0.0084 - accuracy: 0.9985\n",
            "Epoch 00026: saving model to keypoint_classifier.hdf5\n",
            "409/409 [==============================] - 2s 4ms/step - loss: 0.0083 - accuracy: 0.9985 - val_loss: 0.0377 - val_accuracy: 0.9903\n",
            "Epoch 27/1000\n",
            "392/409 [===========================>..] - ETA: 0s - loss: 0.0145 - accuracy: 0.9964\n",
            "Epoch 00027: saving model to keypoint_classifier.hdf5\n",
            "409/409 [==============================] - 1s 4ms/step - loss: 0.0141 - accuracy: 0.9966 - val_loss: 0.0233 - val_accuracy: 0.9879\n",
            "Epoch 28/1000\n",
            "402/409 [============================>.] - ETA: 0s - loss: 0.0202 - accuracy: 0.9950\n",
            "Epoch 00028: saving model to keypoint_classifier.hdf5\n",
            "409/409 [==============================] - 2s 4ms/step - loss: 0.0199 - accuracy: 0.9951 - val_loss: 0.0279 - val_accuracy: 0.9903\n",
            "Epoch 29/1000\n",
            "396/409 [============================>.] - ETA: 0s - loss: 0.0099 - accuracy: 0.9975\n",
            "Epoch 00029: saving model to keypoint_classifier.hdf5\n",
            "409/409 [==============================] - 2s 4ms/step - loss: 0.0096 - accuracy: 0.9976 - val_loss: 0.0191 - val_accuracy: 0.9952\n",
            "Epoch 30/1000\n",
            "389/409 [===========================>..] - ETA: 0s - loss: 0.0075 - accuracy: 0.9985\n",
            "Epoch 00030: saving model to keypoint_classifier.hdf5\n",
            "409/409 [==============================] - 1s 3ms/step - loss: 0.0072 - accuracy: 0.9985 - val_loss: 0.0293 - val_accuracy: 0.9903\n",
            "Epoch 31/1000\n",
            "401/409 [============================>.] - ETA: 0s - loss: 0.0068 - accuracy: 0.9980\n",
            "Epoch 00031: saving model to keypoint_classifier.hdf5\n",
            "409/409 [==============================] - 2s 4ms/step - loss: 0.0067 - accuracy: 0.9980 - val_loss: 0.0189 - val_accuracy: 0.9903\n",
            "Epoch 32/1000\n",
            "409/409 [==============================] - ETA: 0s - loss: 0.0127 - accuracy: 0.9956\n",
            "Epoch 00032: saving model to keypoint_classifier.hdf5\n",
            "409/409 [==============================] - 3s 6ms/step - loss: 0.0127 - accuracy: 0.9956 - val_loss: 0.1333 - val_accuracy: 0.9686\n",
            "Epoch 33/1000\n",
            "404/409 [============================>.] - ETA: 0s - loss: 0.0092 - accuracy: 0.9970\n",
            "Epoch 00033: saving model to keypoint_classifier.hdf5\n",
            "409/409 [==============================] - 1s 3ms/step - loss: 0.0112 - accuracy: 0.9966 - val_loss: 0.0843 - val_accuracy: 0.9783\n",
            "Epoch 34/1000\n",
            "395/409 [===========================>..] - ETA: 0s - loss: 0.0059 - accuracy: 0.9985\n",
            "Epoch 00034: saving model to keypoint_classifier.hdf5\n",
            "409/409 [==============================] - 2s 4ms/step - loss: 0.0063 - accuracy: 0.9985 - val_loss: 0.0536 - val_accuracy: 0.9903\n",
            "Epoch 35/1000\n",
            "403/409 [============================>.] - ETA: 0s - loss: 0.0084 - accuracy: 0.9980\n",
            "Epoch 00035: saving model to keypoint_classifier.hdf5\n",
            "409/409 [==============================] - 2s 5ms/step - loss: 0.0083 - accuracy: 0.9980 - val_loss: 0.0314 - val_accuracy: 0.9903\n",
            "Epoch 36/1000\n",
            "393/409 [===========================>..] - ETA: 0s - loss: 0.0064 - accuracy: 0.9985\n",
            "Epoch 00036: saving model to keypoint_classifier.hdf5\n",
            "409/409 [==============================] - 1s 4ms/step - loss: 0.0062 - accuracy: 0.9985 - val_loss: 0.0437 - val_accuracy: 0.9903\n",
            "Epoch 37/1000\n",
            "409/409 [==============================] - ETA: 0s - loss: 0.0063 - accuracy: 0.9985\n",
            "Epoch 00037: saving model to keypoint_classifier.hdf5\n",
            "409/409 [==============================] - 2s 4ms/step - loss: 0.0063 - accuracy: 0.9985 - val_loss: 0.0358 - val_accuracy: 0.9903\n",
            "Epoch 38/1000\n",
            "398/409 [============================>.] - ETA: 0s - loss: 0.0151 - accuracy: 0.9950\n",
            "Epoch 00038: saving model to keypoint_classifier.hdf5\n",
            "409/409 [==============================] - 2s 4ms/step - loss: 0.0147 - accuracy: 0.9951 - val_loss: 0.1150 - val_accuracy: 0.9831\n",
            "Epoch 39/1000\n",
            "405/409 [============================>.] - ETA: 0s - loss: 0.0082 - accuracy: 0.9970\n",
            "Epoch 00039: saving model to keypoint_classifier.hdf5\n",
            "409/409 [==============================] - 2s 4ms/step - loss: 0.0082 - accuracy: 0.9971 - val_loss: 0.1052 - val_accuracy: 0.9879\n",
            "Epoch 40/1000\n",
            "406/409 [============================>.] - ETA: 0s - loss: 0.0094 - accuracy: 0.9970\n",
            "Epoch 00040: saving model to keypoint_classifier.hdf5\n",
            "409/409 [==============================] - 2s 4ms/step - loss: 0.0113 - accuracy: 0.9966 - val_loss: 0.1447 - val_accuracy: 0.9831\n",
            "Epoch 41/1000\n",
            "399/409 [============================>.] - ETA: 0s - loss: 0.0072 - accuracy: 0.9980\n",
            "Epoch 00041: saving model to keypoint_classifier.hdf5\n",
            "409/409 [==============================] - 2s 6ms/step - loss: 0.0070 - accuracy: 0.9980 - val_loss: 0.0907 - val_accuracy: 0.9783\n",
            "Epoch 42/1000\n",
            "401/409 [============================>.] - ETA: 0s - loss: 0.0049 - accuracy: 0.9985\n",
            "Epoch 00042: saving model to keypoint_classifier.hdf5\n",
            "409/409 [==============================] - 2s 5ms/step - loss: 0.0050 - accuracy: 0.9985 - val_loss: 0.0666 - val_accuracy: 0.9879\n",
            "Epoch 43/1000\n",
            "390/409 [===========================>..] - ETA: 0s - loss: 0.0042 - accuracy: 0.9990  \n",
            "Epoch 00043: saving model to keypoint_classifier.hdf5\n",
            "409/409 [==============================] - 1s 3ms/step - loss: 0.0041 - accuracy: 0.9990 - val_loss: 0.1031 - val_accuracy: 0.9855\n",
            "Epoch 00043: early stopping\n"
          ]
        },
        {
          "data": {
            "text/plain": [
              "<tensorflow.python.keras.callbacks.History at 0x152d8118fc8>"
            ]
          },
          "execution_count": 12,
          "metadata": {},
          "output_type": "execute_result"
        }
      ],
      "source": [
        "model.fit(\n",
        "    x_train,\n",
        "    y_train,\n",
        "    epochs=1000,\n",
        "    batch_size=5,\n",
        "    validation_data=(x_val, y_val),\n",
        "    callbacks=[cp_callback, es_callback]\n",
        ")"
      ]
    },
    {
      "cell_type": "code",
      "execution_count": 13,
      "metadata": {
        "colab": {
          "base_uri": "https://localhost:8080/"
        },
        "id": "pxvb2Y299hE3",
        "outputId": "59eb3185-2e37-4b9e-bc9d-ab1b8ac29b7f"
      },
      "outputs": [
        {
          "name": "stdout",
          "output_type": "stream",
          "text": [
            "43/43 [==============================] - 0s 3ms/step - loss: 0.0789 - accuracy: 0.9953\n"
          ]
        }
      ],
      "source": [
        "# Model evaluation\n",
        "test_loss, test_acc = model.evaluate(x_test, y_test, batch_size=5)"
      ]
    },
    {
      "cell_type": "code",
      "execution_count": 14,
      "metadata": {
        "id": "RBkmDeUW9hE4"
      },
      "outputs": [],
      "source": [
        "# Loading the saved model\n",
        "model = tf.keras.models.load_model(model_save_path)"
      ]
    },
    {
      "cell_type": "code",
      "execution_count": 15,
      "metadata": {
        "colab": {
          "base_uri": "https://localhost:8080/",
          "height": 582
        },
        "id": "AP1V6SCk9hE5",
        "outputId": "08e41a80-7a4a-4619-8125-ecc371368d19"
      },
      "outputs": [
        {
          "data": {
            "image/png": "[encoded data removed]",
            "text/plain": [
              "<Figure size 700x600 with 2 Axes>"
            ]
          },
          "metadata": {},
          "output_type": "display_data"
        },
        {
          "name": "stdout",
          "output_type": "stream",
          "text": [
            "Classification Report\n",
            "              precision    recall  f1-score   support\n",
            "\n",
            "           0       0.98      1.00      0.99        54\n",
            "           1       1.00      0.98      0.99        53\n",
            "           2       1.00      1.00      1.00        52\n",
            "           3       1.00      1.00      1.00        52\n",
            "\n",
            "    accuracy                           1.00       211\n",
            "   macro avg       1.00      1.00      1.00       211\n",
            "weighted avg       1.00      1.00      1.00       211\n",
            "\n"
          ]
        }
      ],
      "source": [
        "import pandas as pd\n",
        "import seaborn as sns\n",
        "import matplotlib.pyplot as plt\n",
        "from sklearn.metrics import confusion_matrix, classification_report\n",
        "\n",
        "def print_confusion_matrix(y_true, y_pred, report=True):\n",
        "    labels = sorted(list(set(y_true)))\n",
        "    cmx_data = confusion_matrix(y_true, y_pred, labels=labels)\n",
        "    \n",
        "    df_cmx = pd.DataFrame(cmx_data, index=labels, columns=labels)\n",
        " \n",
        "    fig, ax = plt.subplots(figsize=(7, 6))\n",
        "    sns.heatmap(df_cmx, annot=True, fmt='g' ,square=False)\n",
        "    ax.set_ylim(len(set(y_true)), 0)\n",
        "    plt.show()\n",
        "    \n",
        "    if report:\n",
        "        print('Classification Report')\n",
        "        print(classification_report(y_test, y_pred))\n",
        "\n",
        "Y_pred = model.predict(x_test)\n",
        "y_pred = np.argmax(Y_pred, axis=1)\n",
        "\n",
        "print_confusion_matrix(y_test, y_pred)"
      ]
    },
    {
      "cell_type": "code",
      "execution_count": 16,
      "metadata": {
        "id": "ODjnYyld9hE6"
      },
      "outputs": [],
      "source": [
        "# Save as a model dedicated to inference\n",
        "model.save(model_save_path, include_optimizer=False)"
      ]
    },
    {
      "cell_type": "code",
      "execution_count": 17,
      "metadata": {
        "colab": {
          "base_uri": "https://localhost:8080/"
        },
        "id": "zRfuK8Y59hE6",
        "outputId": "a4ca585c-b5d5-4244-8291-8674063209bb"
      },
      "outputs": [
        {
          "name": "stdout",
          "output_type": "stream",
          "text": [
            "WARNING:tensorflow:From c:\\Users\\trunghoac\\.conda\\envs\\capstone\\lib\\site-packages\\tensorflow\\python\\training\\tracking\\tracking.py:111: Model.state_updates (from tensorflow.python.keras.engine.training) is deprecated and will be removed in a future version.\n",
            "Instructions for updating:\n",
            "This property should not be used in TensorFlow 2.0, as updates are applied automatically.\n",
            "WARNING:tensorflow:From c:\\Users\\trunghoac\\.conda\\envs\\capstone\\lib\\site-packages\\tensorflow\\python\\training\\tracking\\tracking.py:111: Layer.updates (from tensorflow.python.keras.engine.base_layer) is deprecated and will be removed in a future version.\n",
            "Instructions for updating:\n",
            "This property should not be used in TensorFlow 2.0, as updates are applied automatically.\n",
            "INFO:tensorflow:Assets written to: C:\\Users\\TRUNGH~1\\AppData\\Local\\Temp\\tmpd8grik71\\assets\n"
          ]
        },
        {
          "data": {
            "text/plain": [
              "34688"
            ]
          },
          "execution_count": 17,
          "metadata": {},
          "output_type": "execute_result"
        }
      ],
      "source": [
        "# Transform model (quantization)\n",
        "\n",
        "converter = tf.lite.TFLiteConverter.from_keras_model(model)\n",
        "converter.optimizations = [tf.lite.Optimize.DEFAULT]\n",
        "tflite_quantized_model = converter.convert()\n",
        "\n",
        "open(tflite_save_path, 'wb').write(tflite_quantized_model)"
      ]
    }
  ],
  "metadata": {
    "accelerator": "GPU",
    "colab": {
      "collapsed_sections": [],
      "name": "keypoint_classification_EN.ipynb",
      "provenance": [],
      "toc_visible": true
    },
    "kernelspec": {
      "display_name": "Python 3",
      "language": "python",
      "name": "python3"
    },
    "language_info": {
      "codemirror_mode": {
        "name": "ipython",
        "version": 3
      },
      "file_extension": ".py",
      "mimetype": "text/x-python",
      "name": "python",
      "nbconvert_exporter": "python",
      "pygments_lexer": "ipython3",
      "version": "3.7.16"
    }
  },
  "nbformat": 4,
  "nbformat_minor": 0
}
